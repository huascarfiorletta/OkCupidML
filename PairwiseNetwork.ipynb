{
 "cells": [
  {
   "cell_type": "markdown",
   "metadata": {},
   "source": [
    "### Pairwise Network\n",
    "https://machinelearningmastery.com/use-word-embedding-layers-deep-learning-keras/"
   ]
  },
  {
   "cell_type": "code",
   "execution_count": 14,
   "metadata": {},
   "outputs": [],
   "source": [
    "import pandas as pd\n",
    "one_hot_data = pd.read_pickle(\"../OkCupidData/one_hot.bz2\")\n",
    "question_columns = [x for x in one_hot_data.columns if x.startswith('q')]"
   ]
  },
  {
   "cell_type": "code",
   "execution_count": 23,
   "metadata": {},
   "outputs": [],
   "source": [
    "from keras.preprocessing.text import one_hot\n",
    "from keras.preprocessing.sequence import pad_sequences\n",
    "from keras.models import Sequential\n",
    "from keras.layers import Dense\n",
    "from keras.layers import Average, Dot, Input\n",
    "from keras.layers.embeddings import Embedding\n",
    "import numpy as np\n",
    "\n",
    "\n",
    "\n",
    "def get_pairwise_network(input_dimensions, embedding_dimensions=48):\n",
    "\n",
    "    input_layer_user_1 = Input(shape=(input_dimensions,))\n",
    "    input_layer_user_2 = Input(shape=(input_dimensions,))\n",
    "    embedding_layer_1 = Dense(50, activation='sigmoid')(input_layer_user_1) #embedding_layer\n",
    "    embedding_layer_2 = Dense(50, activation='sigmoid')(input_layer_user_2) #embedding_layer\n",
    "    cosine_similarity = Dot(axes=0, normalize=True)([embedding_layer_1,embedding_layer_2])#cosine sim\n",
    "    model = Model([input_layer_user_1,input_layer_user_2], cosine_similarity)\n",
    "\n",
    "input_dimension = len(question_columns)\n",
    "get_pairwise_network(input_dimension)"
   ]
  },
  {
   "cell_type": "code",
   "execution_count": null,
   "metadata": {},
   "outputs": [],
   "source": []
  }
 ],
 "metadata": {
  "kernelspec": {
   "display_name": "Python 2",
   "language": "python",
   "name": "python2"
  },
  "language_info": {
   "codemirror_mode": {
    "name": "ipython",
    "version": 2
   },
   "file_extension": ".py",
   "mimetype": "text/x-python",
   "name": "python",
   "nbconvert_exporter": "python",
   "pygments_lexer": "ipython2",
   "version": "2.7.15"
  }
 },
 "nbformat": 4,
 "nbformat_minor": 2
}
