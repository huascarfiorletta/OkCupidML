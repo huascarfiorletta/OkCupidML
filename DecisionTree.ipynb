{
 "cells": [
  {
   "cell_type": "code",
   "execution_count": 203,
   "metadata": {},
   "outputs": [
    {
     "name": "stdout",
     "output_type": "stream",
     "text": [
      "d_astrology_seriosity','d_education_phase','d_gender','d_income','d_religion_type','d_drugs','lf_want','d_smokes','d_astrology_sign','d_country','d_drinks','d_age','d_ethnicity','d_offspring_current','d_bodytype','lf_max_age','lf_for','d_job','d_orientation','d_languages','d_relationship','d_offspring_desires','lf_location','lf_min_age','d_education_type','lf_single','d_religion_seriosity','CA','gender_orientation','gender','race','gender2','gender2_num','CA_items\n"
     ]
    }
   ],
   "source": [
    "import pandas as pd\n",
    "from sklearn.model_selection import train_test_split\n",
    "orig_data = pd.read_pickle(\"./unprocessed.bz2\")\n",
    "question_headers = []\n",
    "non_question_headers = []\n",
    "for h in list(orig_data):\n",
    "    if h[0] == 'q':\n",
    "        question_headers.append(h)\n",
    "    elif h[0] != 'p':\n",
    "        non_question_headers.append(h)\n",
    "print '\\',\\''.join(non_question_headers)\n",
    "\n",
    "# non_question_headers = ['d_smokes','d_education_type','d_drinks','d_gender','d_religion_type','d_drugs']"
   ]
  },
  {
   "cell_type": "code",
   "execution_count": 204,
   "metadata": {},
   "outputs": [
    {
     "name": "stdout",
     "output_type": "stream",
     "text": [
      "(55697, 7)\n",
      "{0: 'No', 1: 'Yes', 2: 'Yes, but only soft stuff like marijuana'}\n"
     ]
    },
    {
     "data": {
      "text/html": [
       "<div>\n",
       "<style scoped>\n",
       "    .dataframe tbody tr th:only-of-type {\n",
       "        vertical-align: middle;\n",
       "    }\n",
       "\n",
       "    .dataframe tbody tr th {\n",
       "        vertical-align: top;\n",
       "    }\n",
       "\n",
       "    .dataframe thead th {\n",
       "        text-align: right;\n",
       "    }\n",
       "</style>\n",
       "<table border=\"1\" class=\"dataframe\">\n",
       "  <thead>\n",
       "    <tr style=\"text-align: right;\">\n",
       "      <th></th>\n",
       "      <th>q9688</th>\n",
       "      <th>d_smokes</th>\n",
       "      <th>d_education_type</th>\n",
       "      <th>d_drinks</th>\n",
       "      <th>d_gender</th>\n",
       "      <th>d_religion_type</th>\n",
       "      <th>d_drugs</th>\n",
       "    </tr>\n",
       "  </thead>\n",
       "  <tbody>\n",
       "    <tr>\n",
       "      <th>0</th>\n",
       "      <td>No</td>\n",
       "      <td>No</td>\n",
       "      <td>masters program</td>\n",
       "      <td>Socially</td>\n",
       "      <td>Woman</td>\n",
       "      <td>-</td>\n",
       "      <td>Never</td>\n",
       "    </tr>\n",
       "    <tr>\n",
       "      <th>2</th>\n",
       "      <td>Yes</td>\n",
       "      <td>Yes</td>\n",
       "      <td>Nan</td>\n",
       "      <td>Rarely</td>\n",
       "      <td>Woman</td>\n",
       "      <td>Other</td>\n",
       "      <td>Nan</td>\n",
       "    </tr>\n",
       "    <tr>\n",
       "      <th>4</th>\n",
       "      <td>Yes</td>\n",
       "      <td>No</td>\n",
       "      <td>Ph.D program</td>\n",
       "      <td>Socially</td>\n",
       "      <td>Woman</td>\n",
       "      <td>Atheism</td>\n",
       "      <td>Sometimes</td>\n",
       "    </tr>\n",
       "    <tr>\n",
       "      <th>5</th>\n",
       "      <td>Yes</td>\n",
       "      <td>No</td>\n",
       "      <td>university</td>\n",
       "      <td>Often</td>\n",
       "      <td>Man</td>\n",
       "      <td>Agnosticism</td>\n",
       "      <td>Never</td>\n",
       "    </tr>\n",
       "    <tr>\n",
       "      <th>8</th>\n",
       "      <td>No</td>\n",
       "      <td>Nan</td>\n",
       "      <td>Nan</td>\n",
       "      <td>Nan</td>\n",
       "      <td>Woman</td>\n",
       "      <td>-</td>\n",
       "      <td>Never</td>\n",
       "    </tr>\n",
       "  </tbody>\n",
       "</table>\n",
       "</div>"
      ],
      "text/plain": [
       "  q9688 d_smokes d_education_type  d_drinks d_gender d_religion_type  \\\n",
       "0    No       No  masters program  Socially    Woman               -   \n",
       "2   Yes      Yes              Nan    Rarely    Woman           Other   \n",
       "4   Yes       No     Ph.D program  Socially    Woman         Atheism   \n",
       "5   Yes       No       university     Often      Man     Agnosticism   \n",
       "8    No      Nan              Nan       Nan    Woman               -   \n",
       "\n",
       "     d_drugs  \n",
       "0      Never  \n",
       "2        Nan  \n",
       "4  Sometimes  \n",
       "5      Never  \n",
       "8      Never  "
      ]
     },
     "execution_count": 204,
     "metadata": {},
     "output_type": "execute_result"
    }
   ],
   "source": [
    "from sklearn.model_selection import train_test_split\n",
    "import numpy as np\n",
    "\n",
    "question = 'q9688'\n",
    "question_data = orig_data[[question] + non_question_headers]\n",
    "#drop rows with Nan for question\n",
    "question_data = question_data.dropna(subset=[question])\n",
    "question_data = question_data.replace(np.nan, 'Nan', regex=True)\n",
    "print question_data.shape\n",
    "\n",
    "\n",
    "#convert from category to int\n",
    "obj_columns = question_data.select_dtypes(['object']).columns\n",
    "question_data[obj_columns] = question_data[obj_columns].astype('category')\n",
    "cat_columns = question_data.select_dtypes(['category']).columns #\n",
    "\n",
    "#https://stackoverflow.com/questions/51102205/how-to-know-the-labels-assigned-by-astypecategory-cat-codes\n",
    "question_categories = dict(enumerate(question_data['q9688'].cat.categories))\n",
    "print question_categories\n",
    "\n",
    "question_data_codes = question_data.copy()\n",
    "question_data_codes[cat_columns] = question_data_codes[cat_columns].apply(lambda x: x.cat.codes)\n",
    "\n",
    "\n",
    "question_data.iloc[:5]"
   ]
  },
  {
   "cell_type": "code",
   "execution_count": 208,
   "metadata": {},
   "outputs": [
    {
     "name": "stdout",
     "output_type": "stream",
     "text": [
      "['No', 'Yes', 'Yes, but only soft stuff like marijuana']\n",
      "[[0.27 0.   0.13]\n",
      " [0.02 0.03 0.07]\n",
      " [0.17 0.03 0.28]]\n",
      "acc 0.5842010771992818\n",
      "acc random preds 0.42405745062836625\n"
     ]
    }
   ],
   "source": [
    "from sklearn import tree\n",
    "from sklearn.metrics import confusion_matrix\n",
    "from sklearn.metrics import accuracy_score\n",
    "from sklearn.model_selection import train_test_split\n",
    "\n",
    "x = question_data_codes[non_question_headers]\n",
    "y = question_data_codes[question]\n",
    "x_train, x_test, y_train, y_test = train_test_split(x, y, test_size=0.1)\n",
    "clf = tree.DecisionTreeClassifier(max_depth=6)\n",
    "clf = clf.fit(x_train, y_train)\n",
    "y_pred = clf.predict(x_test)\n",
    "\n",
    "labels=list(question_data[question].cat.categories)\n",
    "print labels\n",
    "\n",
    "cm = confusion_matrix(y_test, y_pred)\n",
    "\n",
    "print np.around(cm.astype(float)/np.sum(cm),decimals=2)\n",
    "print 'acc',accuracy_score(y_test, y_pred)\n",
    "print 'acc random preds', accuracy_score(np.random.permutation(list(y_test)), np.random.permutation(list(y_pred)))\n",
    "\n"
   ]
  },
  {
   "cell_type": "code",
   "execution_count": 212,
   "metadata": {},
   "outputs": [
    {
     "name": "stdout",
     "output_type": "stream",
     "text": [
      "[0.06364804 0.00612783 0.03662231 0.06351161 0.13274847 0.69734173]\n"
     ]
    }
   ],
   "source": [
    "tree.export_graphviz(clf, out_file='tree.dot')\n",
    "print clf.feature_importances_"
   ]
  }
 ],
 "metadata": {
  "kernelspec": {
   "display_name": "Python 2",
   "language": "python",
   "name": "python2"
  },
  "language_info": {
   "codemirror_mode": {
    "name": "ipython",
    "version": 2
   },
   "file_extension": ".py",
   "mimetype": "text/x-python",
   "name": "python",
   "nbconvert_exporter": "python",
   "pygments_lexer": "ipython2",
   "version": "2.7.15"
  }
 },
 "nbformat": 4,
 "nbformat_minor": 2
}
