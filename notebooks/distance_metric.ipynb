{
 "cells": [
  {
   "cell_type": "code",
   "execution_count": 2,
   "metadata": {},
   "outputs": [],
   "source": [
    "import pandas as pd\n",
    "import numpy as np\n",
    "import math \n",
    "\n",
    "#load questions csv\n",
    "questions_data = pd.read_csv('../OkCupidData/question_data.csv',header=0,delimiter=';' )\n",
    "questions_data = questions_data.rename(columns={questions_data.columns[0]: \"q\" })\n",
    "#keep only question lines\n",
    "questions_data = questions_data[questions_data.q.str[0] == 'q']\n",
    "#sort them by non empty number of lines\n",
    "questions_data.sort_values(by=['N'],ascending=False)\n",
    "orig_data = pd.read_pickle(\"../OkCupidData/unprocessed.bz2\")\n",
    "\n",
    "###split data in questions, demographics, probabilities###\n",
    "prob_data = orig_data[[col for col in orig_data.columns if col.startswith('p')]]\n",
    "question_data = orig_data[[col for col in orig_data.columns if col.startswith('q')]]\n",
    "demog_data = orig_data[[col for col in orig_data.columns if not col.startswith('q') and not col.startswith('p')]]\n",
    "demog_question_data = orig_data[[col for col in orig_data.columns if not col.startswith('p')]]"
   ]
  },
  {
   "cell_type": "code",
   "execution_count": 26,
   "metadata": {},
   "outputs": [
    {
     "data": {
      "text/plain": [
       "0.09962332051936486"
      ]
     },
     "execution_count": 26,
     "metadata": {},
     "output_type": "execute_result"
    }
   ],
   "source": [
    "#these dimensions are complementary, need to swap them \n",
    "indx_p_dominant = prob_data.columns.get_loc(\"p_dominant\")\n",
    "indx_p_submissive = prob_data.columns.get_loc(\"p_submissive\")\n",
    "\n",
    "def user_similarity(user_1_indx, user_2_indx, prob_data=prob_data):\n",
    "    values_1 = prob_data.iloc[[user_1_indx]].values[0]\n",
    "    values_2 = prob_data.iloc[[user_2_indx]].values[0]\n",
    "    values_2[indx_p_dominant], values_2[indx_p_submissive] =  values_2[indx_p_submissive], values_2[indx_p_dominant] \n",
    "    \n",
    "    sum_sq_1 = np.nansum(values_1*values_1)\n",
    "    if sum_sq_1 == 0:\n",
    "        return 0\n",
    "    sum_sq_2 = np.nansum(values_2*values_2)\n",
    "    if sum_sq_2 == 0:\n",
    "        return 0\n",
    "    return np.nansum(values_1*values_2) / (np.sqrt(sum_sq_1) * np.sqrt(sum_sq_2))\n",
    "\n",
    "# user_similarity(2711, 390)"
   ]
  },
  {
   "cell_type": "code",
   "execution_count": 32,
   "metadata": {},
   "outputs": [
    {
     "data": {
      "text/plain": [
       "50"
      ]
     },
     "execution_count": 32,
     "metadata": {},
     "output_type": "execute_result"
    }
   ],
   "source": [
    "def test_similarity_metric():\n",
    "    #find closest vector\n",
    "    max_val = 0\n",
    "    for i in range(len(prob_data)):\n",
    "        cosine_sim = user_similarity(2711, i)\n",
    "        if cosine_sim > max_val:\n",
    "            print cosine_sim\n",
    "            max_val = cosine_sim\n",
    "            display(prob_data.iloc[[i]])\n",
    "# test_similarity_metric()"
   ]
  }
 ],
 "metadata": {
  "kernelspec": {
   "display_name": "Python 2",
   "language": "python",
   "name": "python2"
  },
  "language_info": {
   "codemirror_mode": {
    "name": "ipython",
    "version": 2
   },
   "file_extension": ".py",
   "mimetype": "text/x-python",
   "name": "python",
   "nbconvert_exporter": "python",
   "pygments_lexer": "ipython2",
   "version": "2.7.15"
  }
 },
 "nbformat": 4,
 "nbformat_minor": 2
}
