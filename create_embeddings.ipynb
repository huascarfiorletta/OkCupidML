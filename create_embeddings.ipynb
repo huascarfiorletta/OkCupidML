{
 "cells": [
  {
   "cell_type": "markdown",
   "metadata": {},
   "source": [
    "### Using our similarity metric, create embeddings for different users\n",
    "-split data in questions, demographics, probabilities\n",
    "\n",
    "-select based on sex + attracted to\n",
    "\n",
    "-random sample two users, calculate similarity\n",
    "\n",
    "-train network"
   ]
  },
  {
   "cell_type": "code",
   "execution_count": 28,
   "metadata": {},
   "outputs": [],
   "source": [
    "%run distance_metric.ipynb\n",
    "likes = {'Hetero_male' : set(['Hetero_female']),\n",
    "           'Hetero_female' : set(['Hetero_male']),\n",
    "           'Gay_male' : set(['Gay_male','Bisexual_male']),\n",
    "           'Gay_female' : set(['Gay_female','Bisexual_female']),\n",
    "           'Bisexual_male' : set(['Gay_male','Bisexual_male','Hetero_female','Bisexual_female']),\n",
    "           'Bisexual_female' : set(['Gay_female','Bisexual_female','Hetero_male','Bisexual_male'])\n",
    "          }"
   ]
  },
  {
   "cell_type": "code",
   "execution_count": 151,
   "metadata": {},
   "outputs": [
    {
     "name": "stdout",
     "output_type": "stream",
     "text": [
      "Bisexual_female set(['Gay_female', 'Bisexual_female', 'Hetero_male', 'Bisexual_male'])\n"
     ]
    }
   ],
   "source": [
    "def sample_pair():\n",
    "    while True:\n",
    "        user_1 = demog_data.sample(1)\n",
    "        user_1_orientation = user_1['gender_orientation'].values[0]\n",
    "        if user_1_orientation not in likes.keys():\n",
    "            continue\n",
    "        liked_orientations = likes[user_1_orientation]\n",
    "        print user_1_orientation, liked_orientations\n",
    "        break\n",
    "    \n",
    "    \n",
    "    \n",
    "    \n",
    "# print prob_data.iloc[[16872]].values[0]\n",
    "# likes['Bisexual_male']\n",
    "sample_pair()"
   ]
  }
 ],
 "metadata": {
  "kernelspec": {
   "display_name": "Python 2",
   "language": "python",
   "name": "python2"
  },
  "language_info": {
   "codemirror_mode": {
    "name": "ipython",
    "version": 2
   },
   "file_extension": ".py",
   "mimetype": "text/x-python",
   "name": "python",
   "nbconvert_exporter": "python",
   "pygments_lexer": "ipython2",
   "version": "2.7.15"
  }
 },
 "nbformat": 4,
 "nbformat_minor": 2
}
