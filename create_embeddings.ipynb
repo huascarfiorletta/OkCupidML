{
 "cells": [
  {
   "cell_type": "markdown",
   "metadata": {},
   "source": [
    "### Using our similarity metric, create embeddings for different users\n",
    "-split data in questions, demographics, probabilities\n",
    "\n",
    "-select based on sex + attracted to\n",
    "\n",
    "-random sample two users, calculate similarity\n",
    "\n",
    "-train network"
   ]
  },
  {
   "cell_type": "code",
   "execution_count": 1,
   "metadata": {},
   "outputs": [],
   "source": [
    "%run distance_metric.ipynb\n",
    "likes = {'Hetero_male' : set(['Hetero_female']),\n",
    "           'Hetero_female' : set(['Hetero_male']),\n",
    "           'Gay_male' : set(['Gay_male','Bisexual_male']),\n",
    "           'Gay_female' : set(['Gay_female','Bisexual_female']),\n",
    "           'Bisexual_male' : set(['Gay_male','Bisexual_male','Hetero_female','Bisexual_female']),\n",
    "           'Bisexual_female' : set(['Gay_female','Bisexual_female','Hetero_male','Bisexual_male'])\n",
    "          }"
   ]
  },
  {
   "cell_type": "code",
   "execution_count": 55,
   "metadata": {},
   "outputs": [
    {
     "name": "stdout",
     "output_type": "stream",
     "text": [
      "Hetero_female Hetero_male\n",
      "(35804, 60534)\n"
     ]
    }
   ],
   "source": [
    "def sample_compatible_pair(demog_data):\n",
    "    while True:\n",
    "        indx_1 = np.random.randint(len(demog_data))\n",
    "        user_1 = demog_data.iloc[[indx_1]]\n",
    "        user_1_orientation = user_1['gender_orientation'].values[0]\n",
    "        if user_1_orientation not in likes.keys():\n",
    "            continue\n",
    "        liked_orientations = likes[user_1_orientation]\n",
    "        while True:\n",
    "            indx_2 = np.random.randint(len(demog_data))\n",
    "            if indx_1 == indx_2:\n",
    "                continue\n",
    "            user_2 = demog_data.iloc[[indx_2]]\n",
    "            user_2_orientation = user_2['gender_orientation'].values[0]\n",
    "            if user_2_orientation in liked_orientations:\n",
    "#                 print user_1_orientation, user_2_orientation\n",
    "                return indx_1, indx_2\n",
    "# print sample_compatible_pair(demog_data)"
   ]
  },
  {
   "cell_type": "code",
   "execution_count": 39,
   "metadata": {},
   "outputs": [
    {
     "ename": "AttributeError",
     "evalue": "'str' object has no attribute 'values'",
     "output_type": "error",
     "traceback": [
      "\u001b[0;31m---------------------------------------------------------------------------\u001b[0m",
      "\u001b[0;31mAttributeError\u001b[0m                            Traceback (most recent call last)",
      "\u001b[0;32m<ipython-input-39-dc086626a798>\u001b[0m in \u001b[0;36m<module>\u001b[0;34m()\u001b[0m\n\u001b[0;32m----> 1\u001b[0;31m \u001b[0;32mprint\u001b[0m \u001b[0msample_compatible_pair\u001b[0m\u001b[0;34m(\u001b[0m\u001b[0mdemog_data\u001b[0m\u001b[0;34m)\u001b[0m\u001b[0;34m\u001b[0m\u001b[0m\n\u001b[0m\u001b[1;32m      2\u001b[0m \u001b[0;31m# print user_similarity(user_1, user_2)\u001b[0m\u001b[0;34m\u001b[0m\u001b[0;34m\u001b[0m\u001b[0m\n\u001b[1;32m      3\u001b[0m \u001b[0;31m# display(demog_data)\u001b[0m\u001b[0;34m\u001b[0m\u001b[0;34m\u001b[0m\u001b[0m\n\u001b[1;32m      4\u001b[0m \u001b[0mlen\u001b[0m\u001b[0;34m(\u001b[0m\u001b[0mdemog_data\u001b[0m\u001b[0;34m)\u001b[0m\u001b[0;34m\u001b[0m\u001b[0m\n",
      "\u001b[0;32m<ipython-input-38-2286fb8799d2>\u001b[0m in \u001b[0;36msample_compatible_pair\u001b[0;34m(demog_data)\u001b[0m\n\u001b[1;32m      3\u001b[0m         \u001b[0mindx_1\u001b[0m \u001b[0;34m=\u001b[0m \u001b[0mnp\u001b[0m\u001b[0;34m.\u001b[0m\u001b[0mrandom\u001b[0m\u001b[0;34m.\u001b[0m\u001b[0mrandint\u001b[0m\u001b[0;34m(\u001b[0m\u001b[0mlen\u001b[0m\u001b[0;34m(\u001b[0m\u001b[0mdemog_data\u001b[0m\u001b[0;34m)\u001b[0m\u001b[0;34m)\u001b[0m\u001b[0;34m\u001b[0m\u001b[0m\n\u001b[1;32m      4\u001b[0m         \u001b[0muser_1\u001b[0m \u001b[0;34m=\u001b[0m \u001b[0mdemog_data\u001b[0m\u001b[0;34m.\u001b[0m\u001b[0miloc\u001b[0m\u001b[0;34m[\u001b[0m\u001b[0mindx_1\u001b[0m\u001b[0;34m]\u001b[0m\u001b[0;34m\u001b[0m\u001b[0m\n\u001b[0;32m----> 5\u001b[0;31m         \u001b[0muser_1_orientation\u001b[0m \u001b[0;34m=\u001b[0m \u001b[0muser_1\u001b[0m\u001b[0;34m[\u001b[0m\u001b[0;34m'gender_orientation'\u001b[0m\u001b[0;34m]\u001b[0m\u001b[0;34m.\u001b[0m\u001b[0mvalues\u001b[0m\u001b[0;34m[\u001b[0m\u001b[0;36m0\u001b[0m\u001b[0;34m]\u001b[0m\u001b[0;34m\u001b[0m\u001b[0m\n\u001b[0m\u001b[1;32m      6\u001b[0m         \u001b[0;32mif\u001b[0m \u001b[0muser_1_orientation\u001b[0m \u001b[0;32mnot\u001b[0m \u001b[0;32min\u001b[0m \u001b[0mlikes\u001b[0m\u001b[0;34m.\u001b[0m\u001b[0mkeys\u001b[0m\u001b[0;34m(\u001b[0m\u001b[0;34m)\u001b[0m\u001b[0;34m:\u001b[0m\u001b[0;34m\u001b[0m\u001b[0m\n\u001b[1;32m      7\u001b[0m             \u001b[0;32mcontinue\u001b[0m\u001b[0;34m\u001b[0m\u001b[0m\n",
      "\u001b[0;31mAttributeError\u001b[0m: 'str' object has no attribute 'values'"
     ]
    }
   ],
   "source": [
    "user_1_indx, user_2_indx = sample_compatible_pair(demog_data)\n",
    "print user_similarity(user_1_indx, user_2_indx,)\n",
    "# display(demog_data)\n",
    "len(demog_data)"
   ]
  }
 ],
 "metadata": {
  "kernelspec": {
   "display_name": "Python 2",
   "language": "python",
   "name": "python2"
  },
  "language_info": {
   "codemirror_mode": {
    "name": "ipython",
    "version": 2
   },
   "file_extension": ".py",
   "mimetype": "text/x-python",
   "name": "python",
   "nbconvert_exporter": "python",
   "pygments_lexer": "ipython2",
   "version": "2.7.15"
  }
 },
 "nbformat": 4,
 "nbformat_minor": 2
}
