{
 "cells": [
  {
   "cell_type": "markdown",
   "metadata": {},
   "source": [
    "### Using our similarity metric, create embeddings for different users\n",
    "\n",
    "-sample based on sex + attracted to\n",
    "\n",
    "-random sample two users, calculate similarity\n",
    "\n",
    "-create pairwise network, two inputs, embedding layer, average pooling, cosine similarity layer\n",
    "\n",
    "-remove dimensions with N < 10%\n",
    "\n",
    "-train network"
   ]
  },
  {
   "cell_type": "code",
   "execution_count": 62,
   "metadata": {},
   "outputs": [],
   "source": [
    "%run distance_metric.ipynb\n",
    "likes = {'Hetero_male' : set(['Hetero_female']),\n",
    "           'Hetero_female' : set(['Hetero_male']),\n",
    "           'Gay_male' : set(['Gay_male','Bisexual_male']),\n",
    "           'Gay_female' : set(['Gay_female','Bisexual_female']),\n",
    "           'Bisexual_male' : set(['Gay_male','Bisexual_male','Hetero_female','Bisexual_female']),\n",
    "           'Bisexual_female' : set(['Gay_female','Bisexual_female','Hetero_male','Bisexual_male'])\n",
    "          }"
   ]
  },
  {
   "cell_type": "code",
   "execution_count": 63,
   "metadata": {},
   "outputs": [],
   "source": [
    "def sample_compatible_pair(demog_data):\n",
    "    while True:\n",
    "        indx_1 = np.random.randint(len(demog_data))\n",
    "        user_1 = demog_data.iloc[[indx_1]]\n",
    "        user_1_orientation = user_1['gender_orientation'].values[0]\n",
    "        if user_1_orientation not in likes.keys():\n",
    "            continue\n",
    "        liked_orientations = likes[user_1_orientation]\n",
    "        while True:\n",
    "            indx_2 = np.random.randint(len(demog_data))\n",
    "            if indx_1 == indx_2:\n",
    "                continue\n",
    "            user_2 = demog_data.iloc[[indx_2]]\n",
    "            user_2_orientation = user_2['gender_orientation'].values[0]\n",
    "            if user_2_orientation in liked_orientations:\n",
    "#                 print user_1_orientation, user_2_orientation\n",
    "                return indx_1, indx_2\n",
    "# print sample_compatible_pair(demog_data)"
   ]
  },
  {
   "cell_type": "code",
   "execution_count": 126,
   "metadata": {},
   "outputs": [
    {
     "name": "stdout",
     "output_type": "stream",
     "text": [
      "66269 28326 0.08854523204726862\n",
      "27983 16935 0.0\n",
      "9046 48780 0.0\n",
      "31170 4570 0.0\n",
      "31579 19376 0\n",
      "58504 10908 -0.09979173440426733\n",
      "25074 65456 -0.08354983225689092\n",
      "14372 16442 0\n",
      "11625 2029 0\n",
      "51058 37524 0\n",
      "37601 39722 0.0\n",
      "33137 50305 0\n",
      "37430 26356 0.26462767942215865\n",
      "12440 8510 0.0\n",
      "8942 4062 0.2326410668610629\n",
      "55410 41057 0\n",
      "59631 32907 0.23798556717552602\n",
      "29290 6574 -0.1892636274833396\n",
      "19879 55850 0\n",
      "14572 7247 0\n",
      "67175 61553 -0.22089438495801605\n",
      "10965 23894 0\n",
      "65680 26823 0.22695642860041995\n",
      "27023 38767 -0.13183728594043187\n",
      "37908 13660 -0.03889122796591605\n",
      "36566 42226 0.11021880387203552\n",
      "56733 14412 -0.3676517918546011\n",
      "48515 59863 -0.023299392669528893\n",
      "40081 7626 0\n",
      "31667 52961 0.08645058493357391\n"
     ]
    }
   ],
   "source": [
    "for i in range(30):\n",
    "    user_1_indx, user_2_indx = sample_compatible_pair(demog_data)\n",
    "    print user_1_indx, user_2_indx, user_similarity(user_1_indx, user_2_indx)\n"
   ]
  }
 ],
 "metadata": {
  "kernelspec": {
   "display_name": "Python 2",
   "language": "python",
   "name": "python2"
  },
  "language_info": {
   "codemirror_mode": {
    "name": "ipython",
    "version": 2
   },
   "file_extension": ".py",
   "mimetype": "text/x-python",
   "name": "python",
   "nbconvert_exporter": "python",
   "pygments_lexer": "ipython2",
   "version": "2.7.15"
  }
 },
 "nbformat": 4,
 "nbformat_minor": 2
}
